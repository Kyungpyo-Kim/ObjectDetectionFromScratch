{
 "cells": [
  {
   "cell_type": "markdown",
   "metadata": {},
   "source": [
    "# TL-Seoul dataset preprocessing\n",
    "* convert annotation information from text to json file\n",
    "    ```\n",
    "    |class|top|left|width|height| -> |image_id|image_name|category_id|bbox(x_min|y_min|width|height)|trainvaltest|\n",
    "    ```"
   ]
  },
  {
   "cell_type": "code",
   "execution_count": 20,
   "metadata": {},
   "outputs": [
    {
     "name": "stderr",
     "output_type": "stream",
     "text": [
      "C:\\Users\\kyung\\AppData\\Local\\Temp\\ipykernel_892\\3535465597.py:1: DeprecationWarning: Importing display from IPython.core.display is deprecated since IPython 7.14, please import from IPython display\n",
      "  from IPython.core.display import Image, display\n"
     ]
    }
   ],
   "source": [
    "from IPython.core.display import Image, display\n",
    "import cv2\n",
    "import matplotlib.pyplot as plt\n",
    "%matplotlib inline\n",
    "\n",
    "image_date = \"2018-09-04-14-24-39\"\n",
    "image_file = \"pylon_camera_node-000000-1536038679.956.jpg\"\n",
    "\n",
    "## display image with bounding box\n",
    "# image = cv2.imread(image_path)\n",
    "# cv2.rectangle(image,(bbox[0], bbox[1]),(bbox[2]+bbox[0], bbox[3]+bbox[1]),(220, 0, 0), 1)\n",
    "\n",
    "# plt.figure(figsize=(20,20))\n",
    "# plt.imshow(cv2.cvtColor(image, cv2.COLOR_BGR2RGB))\n",
    "# plt.show()\n"
   ]
  },
  {
   "cell_type": "code",
   "execution_count": 1,
   "metadata": {},
   "outputs": [
    {
     "name": "stdout",
     "output_type": "stream",
     "text": [
      "train dataset size:      15555\n",
      "validation dataset size: 5185\n",
      "test dataset size:       5142\n"
     ]
    },
    {
     "data": {
      "application/vnd.jupyter.widget-view+json": {
       "model_id": "83de119471c843519d75952ef7d884f8",
       "version_major": 2,
       "version_minor": 0
      },
      "text/plain": [
       "  0%|          | 0/483 [00:00<?, ?it/s]"
      ]
     },
     "metadata": {},
     "output_type": "display_data"
    },
    {
     "name": "stdout",
     "output_type": "stream",
     "text": [
      "   image_id                                         image_name  category_id  \\\n",
      "0         0  ./2018-09-04-14-24-39/pylon_camera_node-000000...            1   \n",
      "1         1  ./2018-09-04-14-24-39/pylon_camera_node-000010...            1   \n",
      "2         2  ./2018-09-04-14-24-39/pylon_camera_node-000020...            1   \n",
      "3         3  ./2018-09-04-14-24-39/pylon_camera_node-000030...            1   \n",
      "4         4  ./2018-09-04-14-24-39/pylon_camera_node-000040...            1   \n",
      "\n",
      "                  bbox trainvaltest  \n",
      "0  [1453, 594, 31, 10]        train  \n",
      "1  [1359, 596, 29, 10]         test  \n",
      "2   [1285, 598, 29, 9]          val  \n",
      "3  [1212, 597, 26, 10]          val  \n",
      "4   [1138, 596, 25, 9]         test  \n"
     ]
    }
   ],
   "source": [
    "from pathlib import Path\n",
    "from tqdm.notebook import tqdm\n",
    "import pandas as pd\n",
    "\n",
    "base_path = r\"C:\\Users\\kyung\\Downloads\\images\"\n",
    "\n",
    "def get_images_from_txt(path):\n",
    "    images = set()\n",
    "    with open(path) as file:\n",
    "        for line in file.readlines():\n",
    "            images.add(line.strip())\n",
    "    return images\n",
    "\n",
    "# train\n",
    "train_images = get_images_from_txt(f\"{base_path}/train.txt\")\n",
    "print(f\"train dataset size:      {len(train_images)}\")\n",
    "\n",
    "# val\n",
    "val_images = get_images_from_txt(f\"{base_path}/valid.txt\")\n",
    "print(f\"validation dataset size: {len(val_images)}\")\n",
    "\n",
    "# test\n",
    "test_images = get_images_from_txt(f\"{base_path}/test.txt\")\n",
    "print(f\"test dataset size:       {len(test_images)}\")\n",
    "\n",
    "data = dict(image_id=list(), image_name=list(), category_id=list(), bbox=list(), trainvaltest=list())\n",
    "image_id_cnt = 0\n",
    "images = {}\n",
    "for path in Path(base_path).glob('*'):\n",
    "    if path.is_dir():\n",
    "        images[path.parts[-1]] = [p.parts[-1] for p in path.glob('*.jpg')]\n",
    "\n",
    "no_anno_list = []\n",
    "no_use_list = []\n",
    "cnt_trainvaltest = dict(train=0, val=0, test=0)\n",
    "\n",
    "tk = tqdm(images.items())\n",
    "for image_folder, image_file_list in tk:\n",
    "    for idx, image_file in enumerate(image_file_list):\n",
    "        image_path = f\"{base_path}/{image_folder}/{image_file}\"\n",
    "\n",
    "        # check annotation\n",
    "        annotation_path = f\"{base_path}/{image_folder}/anno\"\n",
    "        bbox_path = f\"{annotation_path}/bbox/{image_file}.csv\"\n",
    "        bulb_path = f\"{annotation_path}/bulb/{image_file}.csv\"\n",
    "\n",
    "        # check train/val/test\n",
    "        trainvaltest = None\n",
    "        if f\"./{image_folder}/{image_file}\" in train_images:\n",
    "            trainvaltest = \"train\"\n",
    "\n",
    "        if f\"./{image_folder}/{image_file}\" in val_images:\n",
    "            trainvaltest = \"val\"\n",
    "        \n",
    "        if f\"./{image_folder}/{image_file}\" in test_images:\n",
    "            trainvaltest = \"test\"\n",
    "\n",
    "        if trainvaltest is None:\n",
    "            no_use_list.append(image_path)\n",
    "            continue\n",
    "\n",
    "        cnt_trainvaltest[trainvaltest] += 1\n",
    "                \n",
    "        if (not Path(bbox_path).exists()) or (not Path(bulb_path).exists()):\n",
    "            no_anno_list.append(image_path)\n",
    "            data[\"image_id\"].append(image_id_cnt)\n",
    "            data[\"image_name\"].append(f\"./{image_folder}/{image_file}\")\n",
    "            data[\"category_id\"].append(-1)\n",
    "            data[\"bbox\"].append([])\n",
    "            data[\"trainvaltest\"].append(trainvaltest)\n",
    "            image_id_cnt += 1\n",
    "            tk.set_postfix(images=f\"{idx+1}/{len(image_file_list)}\")\n",
    "            continue\n",
    "\n",
    "        with open(bbox_path, \"r\") as file:\n",
    "            for anno in file.readlines():\n",
    "                anno = anno.strip()\n",
    "                category_id, *bbox = map(int, anno.split(\",\"))\n",
    "                data[\"image_id\"].append(image_id_cnt)\n",
    "                data[\"image_name\"].append(f\"./{image_folder}/{image_file}\")\n",
    "                data[\"category_id\"].append(category_id)\n",
    "                data[\"bbox\"].append(bbox)\n",
    "                data[\"trainvaltest\"].append(trainvaltest)\n",
    "            image_id_cnt += 1\n",
    "            tk.set_postfix(images=f\"{idx+1}/{len(image_file_list)}\")\n",
    "\n",
    "dataframe = pd.DataFrame.from_dict(data)\n",
    "dataframe.to_csv(f'{base_path}/train.csv', index=False)\n",
    "print(dataframe.head())"
   ]
  },
  {
   "cell_type": "code",
   "execution_count": 2,
   "metadata": {},
   "outputs": [
    {
     "name": "stdout",
     "output_type": "stream",
     "text": [
      "no annotation: 808\n",
      "no use_list: 44\n",
      "no train/val/test: 44\n"
     ]
    },
    {
     "data": {
      "text/plain": [
       "{'train': 15555, 'val': 5185, 'test': 5142}"
      ]
     },
     "execution_count": 2,
     "metadata": {},
     "output_type": "execute_result"
    }
   ],
   "source": [
    "print(\"no annotation:\", len(no_anno_list))\n",
    "print(\"no use_list:\", len(no_use_list))\n",
    "print(\"no train/val/test:\", len(no_use_list))\n",
    "\n",
    "cnt_trainvaltest"
   ]
  },
  {
   "cell_type": "code",
   "execution_count": 1,
   "metadata": {},
   "outputs": [
    {
     "data": {
      "text/plain": [
       "image_id        24933\n",
       "image_name      24933\n",
       "category_id         5\n",
       "bbox            74942\n",
       "trainvaltest        3\n",
       "dtype: int64"
      ]
     },
     "execution_count": 1,
     "metadata": {},
     "output_type": "execute_result"
    }
   ],
   "source": [
    "import pandas as pd\n",
    "base_path = r\"C:\\Users\\kyung\\Downloads\\images\"\n",
    "dataframe = pd.read_csv(f'{base_path}/train.csv')\n",
    "dataframe.nunique()"
   ]
  },
  {
   "cell_type": "code",
   "execution_count": 39,
   "metadata": {},
   "outputs": [],
   "source": []
  },
  {
   "cell_type": "code",
   "execution_count": null,
   "metadata": {},
   "outputs": [],
   "source": []
  },
  {
   "cell_type": "code",
   "execution_count": null,
   "metadata": {},
   "outputs": [],
   "source": []
  }
 ],
 "metadata": {
  "kernelspec": {
   "display_name": "Python 3.10.6 ('env': venv)",
   "language": "python",
   "name": "python3"
  },
  "language_info": {
   "codemirror_mode": {
    "name": "ipython",
    "version": 3
   },
   "file_extension": ".py",
   "mimetype": "text/x-python",
   "name": "python",
   "nbconvert_exporter": "python",
   "pygments_lexer": "ipython3",
   "version": "3.10.6"
  },
  "vscode": {
   "interpreter": {
    "hash": "d759f7ba61542cc7fb2a431b9184df9741db6447a5334bfe46b7535602246179"
   }
  }
 },
 "nbformat": 4,
 "nbformat_minor": 4
}
